{
  "cells": [
    {
      "cell_type": "markdown",
      "metadata": {
        "id": "view-in-github",
        "colab_type": "text"
      },
      "source": [
        "<a href=\"https://colab.research.google.com/github/2003MADHAV/computational-linguistics-natural-language-processing-EXP/blob/main/10_NLP_pipeline.ipynb\" target=\"_parent\"><img src=\"https://colab.research.google.com/assets/colab-badge.svg\" alt=\"Open In Colab\"/></a>"
      ]
    },
    {
      "cell_type": "code",
      "execution_count": null,
      "id": "b5d74e70",
      "metadata": {
        "id": "b5d74e70",
        "outputId": "c650f849-95d1-496b-f51b-aacc052360fc"
      },
      "outputs": [
        {
          "name": "stdout",
          "output_type": "stream",
          "text": [
            "Step 1: Tokenization\n",
            "['Apple', 'Inc.', 'is', 'a', 'technology', 'company', 'headquartered', 'in', 'Cupertino', ',', 'California', '.']\n",
            "\n",
            "Step 2: Part-of-Speech Tagging\n",
            "[('Apple', 'PROPN'), ('Inc.', 'PROPN'), ('is', 'AUX'), ('a', 'DET'), ('technology', 'NOUN'), ('company', 'NOUN'), ('headquartered', 'VERB'), ('in', 'ADP'), ('Cupertino', 'PROPN'), (',', 'PUNCT'), ('California', 'PROPN'), ('.', 'PUNCT')]\n",
            "\n",
            "Step 3: Named Entity Recognition\n",
            "[('Apple Inc.', 'ORG'), ('Cupertino', 'GPE'), ('California', 'GPE')]\n",
            "\n",
            "Step 4: Dependency Parsing\n",
            "[('Apple', 'compound', 'Inc.'), ('Inc.', 'nsubj', 'is'), ('is', 'ROOT', 'is'), ('a', 'det', 'company'), ('technology', 'compound', 'company'), ('company', 'attr', 'is'), ('headquartered', 'acl', 'company'), ('in', 'prep', 'headquartered'), ('Cupertino', 'pobj', 'in'), (',', 'punct', 'Cupertino'), ('California', 'appos', 'Cupertino'), ('.', 'punct', 'is')]\n"
          ]
        }
      ],
      "source": [
        "import spacy\n",
        "\n",
        "# Load the spaCy model (you need to install spaCy and download the model)\n",
        "nlp = spacy.load(\"en_core_web_sm\")\n",
        "\n",
        "# Define a function to process text through the NLP pipeline\n",
        "def nlp_pipeline(text):\n",
        "    # Step 1: Tokenization\n",
        "    doc = nlp(text)\n",
        "\n",
        "    # Step 2: Part-of-Speech Tagging\n",
        "    pos_tags = [(token.text, token.pos_) for token in doc]\n",
        "\n",
        "    # Step 3: Named Entity Recognition (NER)\n",
        "    named_entities = [(ent.text, ent.label_) for ent in doc.ents]\n",
        "\n",
        "    # Step 4: Dependency Parsing\n",
        "    dependency_tree = [(token.text, token.dep_, token.head.text) for token in doc]\n",
        "\n",
        "    return pos_tags, named_entities, dependency_tree\n",
        "\n",
        "# Example text\n",
        "text = \"Apple Inc. is a technology company headquartered in Cupertino, California.\"\n",
        "\n",
        "# Process the text through the NLP pipeline\n",
        "pos_tags, named_entities, dependency_tree = nlp_pipeline(text)\n",
        "\n",
        "# Print the results\n",
        "print(\"Step 1: Tokenization\")\n",
        "print([token[0] for token in pos_tags])\n",
        "print(\"\\nStep 2: Part-of-Speech Tagging\")\n",
        "print(pos_tags)\n",
        "print(\"\\nStep 3: Named Entity Recognition\")\n",
        "print(named_entities)\n",
        "print(\"\\nStep 4: Dependency Parsing\")\n",
        "print(dependency_tree)\n"
      ]
    }
  ],
  "metadata": {
    "kernelspec": {
      "display_name": "Python 3 (ipykernel)",
      "language": "python",
      "name": "python3"
    },
    "language_info": {
      "codemirror_mode": {
        "name": "ipython",
        "version": 3
      },
      "file_extension": ".py",
      "mimetype": "text/x-python",
      "name": "python",
      "nbconvert_exporter": "python",
      "pygments_lexer": "ipython3",
      "version": "3.11.3"
    },
    "colab": {
      "provenance": [],
      "include_colab_link": true
    }
  },
  "nbformat": 4,
  "nbformat_minor": 5
}