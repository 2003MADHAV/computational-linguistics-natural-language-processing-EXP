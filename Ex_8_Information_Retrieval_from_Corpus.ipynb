{
  "cells": [
    {
      "cell_type": "markdown",
      "metadata": {
        "id": "view-in-github",
        "colab_type": "text"
      },
      "source": [
        "<a href=\"https://colab.research.google.com/github/2003MADHAV/computational-linguistics-natural-language-processing-EXP/blob/main/Ex_8_Information_Retrieval_from_Corpus.ipynb\" target=\"_parent\"><img src=\"https://colab.research.google.com/assets/colab-badge.svg\" alt=\"Open In Colab\"/></a>"
      ]
    },
    {
      "cell_type": "code",
      "execution_count": null,
      "id": "f2024e52",
      "metadata": {
        "id": "f2024e52",
        "outputId": "a2dddbc8-e8ef-4484-f962-a73a2b8e9247"
      },
      "outputs": [
        {
          "name": "stderr",
          "output_type": "stream",
          "text": [
            "[nltk_data] Downloading package reuters to\n",
            "[nltk_data]     C:\\Users\\ASUS\\AppData\\Roaming\\nltk_data...\n",
            "[nltk_data] Downloading package punkt to\n",
            "[nltk_data]     C:\\Users\\ASUS\\AppData\\Roaming\\nltk_data...\n",
            "[nltk_data]   Package punkt is already up-to-date!\n"
          ]
        },
        {
          "name": "stdout",
          "output_type": "stream",
          "text": [
            "Documents containing 'oil': ['test/14829', 'test/14832', 'test/14833', 'test/14840', 'test/14863', 'test/14873', 'test/14891', 'test/14892', 'test/14931', 'test/15004', 'test/15038', 'test/15063', 'test/15198', 'test/15200', 'test/15212', 'test/15227', 'test/15230', 'test/15238', 'test/15244', 'test/15250', 'test/15322', 'test/15325', 'test/15341', 'test/15344', 'test/15351', 'test/15366', 'test/15383', 'test/15386', 'test/15387', 'test/15389', 'test/15396', 'test/15416', 'test/15500', 'test/15551', 'test/15574', 'test/15575', 'test/15607', 'test/15613', 'test/15639', 'test/15733', 'test/15829', 'test/15853', 'test/15871', 'test/15875', 'test/15890', 'test/15906', 'test/15923', 'test/15939', 'test/15975', 'test/16005', 'test/16007', 'test/16077', 'test/16080', 'test/16086', 'test/16093', 'test/16130', 'test/16155', 'test/16166', 'test/16176', 'test/16195', 'test/16214', 'test/16215', 'test/16226', 'test/16252', 'test/16268', 'test/16270', 'test/16366', 'test/16429', 'test/16438', 'test/16463', 'test/16483', 'test/16577', 'test/16589', 'test/16593', 'test/16597', 'test/16604', 'test/16607', 'test/16636', 'test/16649', 'test/16651', 'test/16658', 'test/16680', 'test/16710', 'test/16723', 'test/16739', 'test/16762', 'test/16772', 'test/16833', 'test/16918', 'test/17046', 'test/17048', 'test/17054', 'test/17441', 'test/17446', 'test/17452', 'test/17463', 'test/17473', 'test/17477', 'test/17478', 'test/17516', 'test/17519', 'test/17544', 'test/17547', 'test/17618', 'test/17688', 'test/17750', 'test/17759', 'test/17771', 'test/17780', 'test/17812', 'test/17813', 'test/17816', 'test/17875', 'test/17878', 'test/17883', 'test/17886', 'test/17888', 'test/17892', 'test/17896', 'test/17913', 'test/17924', 'test/17925', 'test/17926', 'test/17929', 'test/17958', 'test/17963', 'test/17968', 'test/18066', 'test/18085', 'test/18108', 'test/18146', 'test/18150', 'test/18186', 'test/18213', 'test/18228', 'test/18231', 'test/18234', 'test/18271', 'test/18280', 'test/18325', 'test/18328', 'test/18329', 'test/18332', 'test/18340', 'test/18367', 'test/18480', 'test/18493', 'test/18521', 'test/18523', 'test/18565', 'test/18567', 'test/18599', 'test/18621', 'test/18651', 'test/18655', 'test/18678', 'test/18680', 'test/18689', 'test/18692', 'test/18698', 'test/18700', 'test/18701', 'test/18704', 'test/18705', 'test/18706', 'test/18707', 'test/18728', 'test/18736', 'test/18738', 'test/18744', 'test/18746', 'test/18747', 'test/18754', 'test/18765', 'test/18773', 'test/18774', 'test/18781', 'test/18789', 'test/18795', 'test/18798', 'test/18810', 'test/18824', 'test/18835', 'test/18840', 'test/18857', 'test/18896', 'test/18975', 'test/18990', 'test/19017', 'test/19059', 'test/19069', 'test/19082', 'test/19083', 'test/19088', 'test/19110', 'test/19128', 'test/19182', 'test/19193', 'test/19223', 'test/19285', 'test/19291', 'test/19327', 'test/19341', 'test/19367', 'test/19397', 'test/19403', 'test/19478', 'test/19492', 'test/19497', 'test/19499', 'test/19505', 'test/19506', 'test/19509', 'test/19534', 'test/19551', 'test/19559', 'test/19560', 'test/19672', 'test/19684', 'test/19756', 'test/19810', 'test/19828', 'test/19832', 'test/19844', 'test/19867', 'test/19869', 'test/19874', 'test/19882', 'test/19903', 'test/19927', 'test/19947', 'test/19984', 'test/19996', 'test/19998', 'test/20008', 'test/20030', 'test/20045', 'test/20090', 'test/20092', 'test/20093', 'test/20095', 'test/20101', 'test/20103', 'test/20208', 'test/20232', 'test/20270', 'test/20333', 'test/20335', 'test/20352', 'test/20389', 'test/20406', 'test/20420', 'test/20459', 'test/20461', 'test/20462', 'test/20464', 'test/20474', 'test/20517', 'test/20632', 'test/20653', 'test/20662', 'test/20666', 'test/20682', 'test/20709', 'test/20719', 'test/20721', 'test/20756', 'test/20774', 'test/20778', 'test/20828', 'test/20869', 'test/20878', 'test/20881', 'test/20882', 'test/20890', 'test/20902', 'test/20909', 'test/20911', 'test/20919', 'test/20936', 'test/20944', 'test/20959', 'test/20981', 'test/20991', 'test/21002', 'test/21006', 'test/21013', 'test/21018', 'test/21067', 'test/21076', 'test/21131', 'test/21149', 'test/21152', 'test/21197', 'test/21216', 'test/21267', 'test/21319', 'test/21363', 'test/21380', 'test/21417', 'test/21443', 'test/21459', 'test/21465', 'test/21475', 'test/21482', 'test/21484', 'test/21485', 'test/21486', 'test/21492', 'test/21497', 'test/21501', 'test/21502', 'test/21506', 'test/21510', 'test/21519', 'test/21525', 'test/21541', 'test/21561', 'test/21568', 'training/10011', 'training/10015', 'training/10078', 'training/10080', 'training/10091', 'training/10106', 'training/10135', 'training/10168', 'training/10175', 'training/10190', 'training/10192', 'training/10200', 'training/10228', 'training/1024', 'training/1026', 'training/10261', 'training/10268', 'training/10272', 'training/10275', 'training/10291', 'training/10292', 'training/10300', 'training/10306', 'training/10330', 'training/10341', 'training/10348', 'training/10371', 'training/10373', 'training/10375', 'training/10385', 'training/10395', 'training/10406', 'training/10452', 'training/10521', 'training/10539', 'training/10567', 'training/10588', 'training/10620', 'training/10621', 'training/10627', 'training/10632', 'training/10641', 'training/10693', 'training/10703', 'training/10718', 'training/10720', 'training/10750', 'training/10758', 'training/10797', 'training/10816', 'training/10831', 'training/1084', 'training/10845', 'training/10847', 'training/10873', 'training/10903', 'training/10908', 'training/10944', 'training/10947', 'training/11000', 'training/11007', 'training/11025', 'training/11083', 'training/1110', 'training/11109', 'training/11118', 'training/11145', 'training/11149', 'training/11171', 'training/11177', 'training/11213', 'training/11224', 'training/11227', 'training/11231', 'training/11232', 'training/11236', 'training/11241', 'training/11249', 'training/11273', 'training/11291', 'training/11350', 'training/11388', 'training/11393', 'training/11403', 'training/11406', 'training/11421', 'training/11437', 'training/11444', 'training/11455', 'training/11491', 'training/11522', 'training/11541', 'training/11559', 'training/11588', 'training/11632', 'training/11639', 'training/11671', 'training/11711', 'training/11723', 'training/11724', 'training/11728', 'training/11731', 'training/11752', 'training/11753', 'training/11768', 'training/11778', 'training/11839', 'training/11852', 'training/11872', 'training/11880', 'training/11882', 'training/11886', 'training/11898', 'training/11908', 'training/11932', 'training/11949', 'training/11953', 'training/11961', 'training/12031', 'training/12050', 'training/1211', 'training/12119', 'training/12122', 'training/12149', 'training/1215', 'training/12209', 'training/12224', 'training/12281', 'training/12344', 'training/12345', 'training/12361', 'training/12372', 'training/12454', 'training/12503', 'training/12533', 'training/12564', 'training/127', 'training/12746', 'training/12775', 'training/12786', 'training/12791', 'training/12799', 'training/12803', 'training/12818', 'training/12822', 'training/12851', 'training/12986', 'training/1301', 'training/1306', 'training/13080', 'training/13085', 'training/13096', 'training/13102', 'training/13115', 'training/13142', 'training/1316', 'training/13179', 'training/13184', 'training/13200', 'training/13204', 'training/13245', 'training/13247', 'training/13256', 'training/13265', 'training/13266', 'training/13320', 'training/1335', 'training/1343', 'training/13539', 'training/13542', 'training/13611', 'training/13738', 'training/1379', 'training/1387', 'training/13915', 'training/13963', 'training/140', 'training/14211', 'training/14395', 'training/144', 'training/145', 'training/14506', 'training/14509', 'training/14544', 'training/14558', 'training/1456', 'training/14679', 'training/14698', 'training/14732', 'training/14755', 'training/14770', 'training/1521', 'training/1550', 'training/1556', 'training/157', 'training/1616', 'training/1619', 'training/1650', 'training/1658', 'training/1660', 'training/1661', 'training/1686', 'training/1692', 'training/1696', 'training/1709', 'training/1711', 'training/1723', 'training/1751', 'training/1799', 'training/1809', 'training/1837', 'training/1848', 'training/1856', 'training/1875', 'training/1878', 'training/1909', 'training/191', 'training/194', 'training/1948', 'training/1959', 'training/1964', 'training/1980', 'training/1990', 'training/200', 'training/2007', 'training/2046', 'training/2061', 'training/2074', 'training/211', 'training/2121', 'training/213', 'training/2173', 'training/2175', 'training/2187', 'training/2213', 'training/2228', 'training/2231', 'training/2234', 'training/2251', 'training/2268', 'training/235', 'training/236', 'training/237', 'training/2383', 'training/242', 'training/2435', 'training/2449', 'training/2456', 'training/246', 'training/247', 'training/2475', 'training/2479', 'training/248', 'training/2483', 'training/2511', 'training/2515', 'training/2517', 'training/2522', 'training/2528', 'training/2530', 'training/2542', 'training/2585', 'training/2688', 'training/2696', 'training/273', 'training/274', 'training/2767', 'training/2775', 'training/2789', 'training/2811', 'training/2818', 'training/2828', 'training/2833', 'training/2838', 'training/2925', 'training/2930', 'training/2957', 'training/2970', 'training/2973', 'training/2975', 'training/2998', 'training/3003', 'training/3015', 'training/3017', 'training/3019', 'training/3024', 'training/3048', 'training/3065', 'training/3115', 'training/313', 'training/3145', 'training/3146', 'training/3169', 'training/3174', 'training/3181', 'training/3189', 'training/320', 'training/3204', 'training/3206', 'training/3249', 'training/3269', 'training/3303', 'training/3310', 'training/332', 'training/3332', 'training/3338', 'training/3342', 'training/3354', 'training/3364', 'training/3372', 'training/3389', 'training/3430', 'training/3452', 'training/3455', 'training/3466', 'training/3488', 'training/349', 'training/3490', 'training/3505', 'training/3507', 'training/3509', 'training/352', 'training/353', 'training/3535', 'training/3540', 'training/3556', 'training/356', 'training/3563', 'training/3571', 'training/3592', 'training/3593', 'training/3594', 'training/3597', 'training/3609', 'training/368', 'training/3798', 'training/3800', 'training/3840', 'training/3843', 'training/3846', 'training/3853', 'training/3855', 'training/3864', 'training/3869', 'training/3872', 'training/3888', 'training/3906', 'training/3950', 'training/3980', 'training/3985', 'training/3995', 'training/4005', 'training/4016', 'training/4028', 'training/4035', 'training/4039', 'training/4041', 'training/4049', 'training/4061', 'training/4067', 'training/4080', 'training/4125', 'training/4129', 'training/4138', 'training/4162', 'training/4171', 'training/4174', 'training/4199', 'training/4232', 'training/4246', 'training/4249', 'training/4290', 'training/4305', 'training/4315', 'training/4333', 'training/4337', 'training/4338', 'training/4340', 'training/4353', 'training/4365', 'training/4367', 'training/4386', 'training/4425', 'training/4429', 'training/4436', 'training/4453', 'training/4467', 'training/4474', 'training/4481', 'training/4510', 'training/4525', 'training/4564', 'training/4569', 'training/4576', 'training/4584', 'training/459', 'training/4590', 'training/4593', 'training/4600', 'training/4604', 'training/4609', 'training/4634', 'training/4650', 'training/4662', 'training/4679', 'training/4681', 'training/4689', 'training/4713', 'training/4742', 'training/4744', 'training/4755', 'training/4785', 'training/4835', 'training/4848', 'training/4867', 'training/489', 'training/4908', 'training/4930', 'training/4951', 'training/4953', 'training/4962', 'training/4963', 'training/4981', 'training/4983', 'training/502', 'training/5037', 'training/5044', 'training/5061', 'training/5116', 'training/5118', 'training/5119', 'training/5123', 'training/5125', 'training/5142', 'training/5145', 'training/5150', 'training/5152', 'training/5156', 'training/5166', 'training/5167', 'training/5169', 'training/5171', 'training/5178', 'training/5193', 'training/5218', 'training/5236', 'training/5238', 'training/5244', 'training/5250', 'training/5255', 'training/5268', 'training/5270', 'training/5273', 'training/5274', 'training/5281', 'training/5285', 'training/5292', 'training/5295', 'training/5315', 'training/5318', 'training/5323', 'training/5330', 'training/5342', 'training/5376', 'training/5389', 'training/5391', 'training/543', 'training/5506', 'training/5538', 'training/5542', 'training/5544', 'training/5553', 'training/5559', 'training/5561', 'training/5630', 'training/5635', 'training/5655', 'training/5675', 'training/5683', 'training/5684', 'training/5688', 'training/5692', 'training/5706', 'training/5710', 'training/5712', 'training/5717', 'training/5739', 'training/5751', 'training/5761', 'training/5769', 'training/5787', 'training/5791', 'training/5793', 'training/5796', 'training/5830', 'training/5848', 'training/5852', 'training/5866', 'training/5879', 'training/5887', 'training/5919', 'training/5926', 'training/5949', 'training/5954', 'training/5985', 'training/6', 'training/6023', 'training/6037', 'training/6054', 'training/6058', 'training/6060', 'training/6062', 'training/6086', 'training/6111', 'training/6119', 'training/6121', 'training/6125', 'training/6159', 'training/6163', 'training/6166', 'training/6169', 'training/6177', 'training/6184', 'training/6201', 'training/6208', 'training/6225', 'training/6253', 'training/6264', 'training/6271', 'training/6301', 'training/6342', 'training/6344', 'training/6348', 'training/6354', 'training/6371', 'training/6404', 'training/6412', 'training/6413', 'training/6421', 'training/6432', 'training/6436', 'training/6535', 'training/6562', 'training/6573', 'training/6578', 'training/6585', 'training/6598', 'training/6606', 'training/6638', 'training/6652', 'training/6656', 'training/6670', 'training/6708', 'training/6722', 'training/6740', 'training/6742', 'training/6746', 'training/6760', 'training/68', 'training/6836', 'training/6856', 'training/6873', 'training/6876', 'training/6893', 'training/6905', 'training/6922', 'training/6954', 'training/697', 'training/6994', 'training/6996', 'training/7037', 'training/704', 'training/7067', 'training/708', 'training/7097', 'training/7119', 'training/7135', 'training/7150', 'training/7152', 'training/7174', 'training/7287', 'training/7332', 'training/7337', 'training/7355', 'training/7366', 'training/739', 'training/7397', 'training/7408', 'training/7423', 'training/7462', 'training/7496', 'training/7500', 'training/7515', 'training/7528', 'training/7529', 'training/7534', 'training/7548', 'training/7606', 'training/7611', 'training/7618', 'training/7625', 'training/7639', 'training/7642', 'training/7643', 'training/7702', 'training/7742', 'training/7790', 'training/7854', 'training/791', 'training/7937', 'training/8003', 'training/8015', 'training/8032', 'training/8039', 'training/8041', 'training/8050', 'training/8051', 'training/8069', 'training/8086', 'training/8089', 'training/8100', 'training/8108', 'training/8109', 'training/8117', 'training/8119', 'training/8131', 'training/8134', 'training/8149', 'training/8156', 'training/8159', 'training/8160', 'training/8167', 'training/8173', 'training/8188', 'training/8209', 'training/8210', 'training/829', 'training/833', 'training/834', 'training/835', 'training/837', 'training/8402', 'training/8405', 'training/8421', 'training/843', 'training/8440', 'training/8478', 'training/8493', 'training/8502', 'training/8516', 'training/8530', 'training/855', 'training/8596', 'training/8598', 'training/8600', 'training/8606', 'training/8610', 'training/8615', 'training/8623', 'training/8630', 'training/8672', 'training/8675', 'training/8688', 'training/873', 'training/8747', 'training/8755', 'training/8765', 'training/8780', 'training/8812', 'training/8815', 'training/8820', 'training/8835', 'training/885', 'training/8856', 'training/8882', 'training/8884', 'training/8905', 'training/8914', 'training/8959', 'training/896', 'training/8964', 'training/8971', 'training/9031', 'training/9065', 'training/9077', 'training/9149', 'training/915', 'training/9155', 'training/9156', 'training/918', 'training/9193', 'training/9206', 'training/9208', 'training/9213', 'training/9253', 'training/9279', 'training/9293', 'training/930', 'training/9352', 'training/9381', 'training/9392', 'training/9436', 'training/944', 'training/9445', 'training/945', 'training/9475', 'training/9479', 'training/952', 'training/9527', 'training/9544', 'training/9550', 'training/9573', 'training/9583', 'training/9610', 'training/963', 'training/9634', 'training/9639', 'training/9650', 'training/9674', 'training/9706', 'training/9718', 'training/9731', 'training/9733', 'training/9734', 'training/9736', 'training/9737', 'training/9742', 'training/9756', 'training/9761', 'training/9763', 'training/9769', 'training/9770', 'training/978', 'training/9799', 'training/9801', 'training/9821', 'training/9849', 'training/9850', 'training/9853', 'training/9872', 'training/988', 'training/9913', 'training/9933', 'training/9947', 'training/9952', 'training/9982']\n"
          ]
        }
      ],
      "source": [
        "\n",
        "import nltk\n",
        "from nltk.corpus import reuters\n",
        "from nltk.tokenize import word_tokenize\n",
        "from nltk.stem import PorterStemmer\n",
        "\n",
        "nltk.download(\"reuters\")\n",
        "nltk.download(\"punkt\")\n",
        "\n",
        "# Define a function to preprocess text (tokenization, lowercasing, stemming)\n",
        "def preprocess_text(text):\n",
        "    tokens = word_tokenize(text)\n",
        "    tokens = [token.lower() for token in tokens if token.isalpha()]\n",
        "    stemmer = PorterStemmer()\n",
        "    tokens = [stemmer.stem(token) for token in tokens]\n",
        "    return tokens\n",
        "\n",
        "# Define a function to retrieve documents containing a specific keyword\n",
        "def retrieve_documents(corpus, keyword):\n",
        "    matching_docs = []\n",
        "    for file_id in corpus.fileids():\n",
        "        text = corpus.raw(file_id)\n",
        "        tokens = preprocess_text(text)\n",
        "        if keyword in tokens:\n",
        "            matching_docs.append(file_id)\n",
        "    return matching_docs\n",
        "\n",
        "# Main function\n",
        "if __name__ == \"__main__\":\n",
        "    # The NLTK reuters corpus contains a collection of news articles\n",
        "    corpus = reuters\n",
        "\n",
        "    # Retrieve documents containing a specific keyword\n",
        "    keyword = \"oil\"\n",
        "    matching_docs = retrieve_documents(corpus, keyword)\n",
        "    print(f\"Documents containing '{keyword}': {matching_docs}\")\n"
      ]
    },
    {
      "cell_type": "code",
      "execution_count": null,
      "id": "5d8b4d9a",
      "metadata": {
        "id": "5d8b4d9a"
      },
      "outputs": [],
      "source": []
    }
  ],
  "metadata": {
    "kernelspec": {
      "display_name": "Python 3 (ipykernel)",
      "language": "python",
      "name": "python3"
    },
    "language_info": {
      "codemirror_mode": {
        "name": "ipython",
        "version": 3
      },
      "file_extension": ".py",
      "mimetype": "text/x-python",
      "name": "python",
      "nbconvert_exporter": "python",
      "pygments_lexer": "ipython3",
      "version": "3.11.3"
    },
    "colab": {
      "provenance": [],
      "include_colab_link": true
    }
  },
  "nbformat": 4,
  "nbformat_minor": 5
}