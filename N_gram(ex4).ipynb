{
  "cells": [
    {
      "cell_type": "markdown",
      "metadata": {
        "id": "view-in-github",
        "colab_type": "text"
      },
      "source": [
        "<a href=\"https://colab.research.google.com/github/2003MADHAV/computational-linguistics-natural-language-processing-EXP/blob/main/N_gram(ex4).ipynb\" target=\"_parent\"><img src=\"https://colab.research.google.com/assets/colab-badge.svg\" alt=\"Open In Colab\"/></a>"
      ]
    },
    {
      "cell_type": "code",
      "execution_count": null,
      "metadata": {
        "colab": {
          "base_uri": "https://localhost:8080/"
        },
        "id": "YfvZKk3h9Hf3",
        "outputId": "df2f3ad0-75c9-4a47-b57f-b310ce1f4a29"
      },
      "outputs": [
        {
          "name": "stdout",
          "output_type": "stream",
          "text": [
            "Enter your sentence:N-gram can be defined as the contiguous sequence of n items from a given sample of text or speech. The items can be letters, words, or base pairs according to the application. The N-grams typically are collected from a text or speech corpus (A long text dataset).\n",
            "Enter the value of n:2\n",
            "('N-gram', 'can')\n",
            "('can', 'be')\n",
            "('be', 'defined')\n",
            "('defined', 'as')\n",
            "('as', 'the')\n",
            "('the', 'contiguous')\n",
            "('contiguous', 'sequence')\n",
            "('sequence', 'of')\n",
            "('of', 'n')\n",
            "('n', 'items')\n",
            "('items', 'from')\n",
            "('from', 'a')\n",
            "('a', 'given')\n",
            "('given', 'sample')\n",
            "('sample', 'of')\n",
            "('of', 'text')\n",
            "('text', 'or')\n",
            "('or', 'speech.')\n",
            "('speech.', 'The')\n",
            "('The', 'items')\n",
            "('items', 'can')\n",
            "('can', 'be')\n",
            "('be', 'letters,')\n",
            "('letters,', 'words,')\n",
            "('words,', 'or')\n",
            "('or', 'base')\n",
            "('base', 'pairs')\n",
            "('pairs', 'according')\n",
            "('according', 'to')\n",
            "('to', 'the')\n",
            "('the', 'application.')\n",
            "('application.', 'The')\n",
            "('The', 'N-grams')\n",
            "('N-grams', 'typically')\n",
            "('typically', 'are')\n",
            "('are', 'collected')\n",
            "('collected', 'from')\n",
            "('from', 'a')\n",
            "('a', 'text')\n",
            "('text', 'or')\n",
            "('or', 'speech')\n",
            "('speech', 'corpus')\n",
            "('corpus', '(A')\n",
            "('(A', 'long')\n",
            "('long', 'text')\n",
            "('text', 'dataset).')\n"
          ]
        }
      ],
      "source": [
        "from nltk import ngrams\n",
        "text = input(\"Enter your sentence:\")\n",
        "n = int(input(\"Enter the value of n:\"))\n",
        "n_grams = ngrams(text.split(),n)\n",
        "for grams in n_grams:\n",
        "  print(grams)"
      ]
    }
  ],
  "metadata": {
    "colab": {
      "provenance": [],
      "include_colab_link": true
    },
    "kernelspec": {
      "display_name": "Python 3 (ipykernel)",
      "language": "python",
      "name": "python3"
    },
    "language_info": {
      "codemirror_mode": {
        "name": "ipython",
        "version": 3
      },
      "file_extension": ".py",
      "mimetype": "text/x-python",
      "name": "python",
      "nbconvert_exporter": "python",
      "pygments_lexer": "ipython3",
      "version": "3.11.3"
    }
  },
  "nbformat": 4,
  "nbformat_minor": 0
}