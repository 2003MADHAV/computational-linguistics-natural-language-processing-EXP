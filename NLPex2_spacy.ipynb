{
  "cells": [
    {
      "cell_type": "markdown",
      "metadata": {
        "id": "view-in-github",
        "colab_type": "text"
      },
      "source": [
        "<a href=\"https://colab.research.google.com/github/2003MADHAV/computational-linguistics-natural-language-processing-EXP/blob/main/NLPex2_spacy.ipynb\" target=\"_parent\"><img src=\"https://colab.research.google.com/assets/colab-badge.svg\" alt=\"Open In Colab\"/></a>"
      ]
    },
    {
      "cell_type": "code",
      "execution_count": null,
      "metadata": {
        "id": "fWjc9iQ-TC1H"
      },
      "outputs": [],
      "source": [
        "import spacy\n",
        "en = spacy.load('en_core_web_sm')"
      ]
    },
    {
      "cell_type": "code",
      "execution_count": null,
      "metadata": {
        "colab": {
          "base_uri": "https://localhost:8080/"
        },
        "id": "LwPK_VATDQLr",
        "outputId": "c8a05d0c-70e3-4aaa-cfbd-d51d48efcc31"
      },
      "outputs": [
        {
          "name": "stdout",
          "output_type": "stream",
          "text": [
            "{'toward', 'across', 'no', 'everyone', 'twenty', 'while', 'nowhere', 'than', 'thence', 'me', 'three', 'themselves', 'four', 'part', 'put', '‘re', 'below', 'really', 'fifty', 'moreover', 'therein', 'in', 'please', 'their', 'formerly', 'seem', 'any', 'latterly', 'whoever', 'else', \"'ve\", 'someone', 'he', \"'d\", '’ll', 'may', 'somehow', 'alone', 'own', 'regarding', 'an', 'few', 'onto', 'the', 'done', 'whereby', 'thereupon', 'per', 'her', 'when', 'by', \"'s\", 'was', 'back', 'neither', 'you', '‘ll', 'might', 'does', 'or', 'whither', 'enough', 'here', 'because', 'about', 'i', 'towards', 'front', 'has', 'becomes', '’re', 'already', 'can', 'up', 'well', 'due', 'would', 'against', 'down', 'now', 'we', 'who', 'latter', 'twelve', 'name', 'others', 'several', 'then', 'after', 'among', 'so', 'whenever', 'thru', 'where', 'around', 'almost', 'himself', \"'m\", 'cannot', 'made', 'within', 'out', '’d', 'still', 'just', 'not', 'bottom', 'his', '‘ve', 'anywhere', 'anything', 'top', 'n‘t', 'ours', '’m', 'another', 'yet', 'did', 'yours', 'been', 'could', 'indeed', 'give', 'until', 'upon', 'whereas', 'mine', 'over', 'between', 'since', 'nine', 'being', 'during', 'most', 'perhaps', 'whether', 'ever', 'six', '‘m', 'sometime', 'anyhow', 'via', 'she', 'hence', 'there', 'amount', 'itself', 'go', 'move', 'became', 'which', 'herein', 'how', 'call', 'under', 'although', 'eight', 'otherwise', 'him', 'amongst', 'seeming', 'therefore', 'side', 'that', '’s', 'through', 'n’t', 'serious', 'also', 'on', 'somewhere', 'above', 'besides', 'once', 'each', 'should', 'beyond', 'doing', 'nobody', 'thus', 'various', 'wherein', 'whom', 'other', 'nothing', 'yourselves', 'but', 'rather', 'into', 'much', 'before', 'former', 'ca', 'everywhere', 'always', 'to', 'anyway', 'wherever', 'keep', 'using', 'our', 'will', 'quite', 'its', 'ten', 'nor', 'thereafter', 'whole', 'though', 'were', 'next', 'often', 'some', 'last', '‘s', \"'re\", '’ve', 'whereupon', 'mostly', 'same', 'further', 'sixty', 'noone', 'are', 'for', 'used', 'only', 'one', 'say', 'of', 'too', 'take', 'very', 'afterwards', \"n't\", 'why', 'am', 'be', 'whose', 'except', 'behind', 'those', 'sometimes', 're', 'such', \"'ll\", 'us', 'hereafter', 'throughout', 'is', 'empty', 'this', 'must', 'many', 'see', 'thereby', 'first', 'a', 'whatever', 'they', 'anyone', 'even', 'fifteen', 'two', 'without', 'hers', 'from', 'have', 'least', 'herself', 'along', 'do', 'either', 'them', 'show', 'had', 'your', 'unless', 'forty', 'get', 'seemed', 'beside', 'whence', 'it', 'five', 'all', 'something', 'none', 'both', 'ourselves', 'these', 'and', '‘d', 'becoming', 'off', 'more', 'if', 'hereby', 'eleven', 'seems', 'meanwhile', 'hundred', 'at', 'what', 'again', 'whereafter', 'hereupon', 'elsewhere', 'nevertheless', 'become', 'less', 'namely', 'make', 'third', 'never', 'with', 'full', 'beforehand', 'myself', 'every', 'everything', 'my', 'as', 'yourself', 'together', 'however'}\n"
          ]
        }
      ],
      "source": [
        "sw_spacy = en.Defaults.stop_words\n",
        "print(sw_spacy)"
      ]
    },
    {
      "cell_type": "code",
      "execution_count": null,
      "metadata": {
        "colab": {
          "base_uri": "https://localhost:8080/"
        },
        "id": "KR1fnKBlDyio",
        "outputId": "0ab2e5c1-31d4-422e-80d6-49ea74061cf6"
      },
      "outputs": [
        {
          "name": "stdout",
          "output_type": "stream",
          "text": [
            "326\n"
          ]
        }
      ],
      "source": [
        "print(len(sw_spacy))"
      ]
    },
    {
      "cell_type": "code",
      "execution_count": null,
      "metadata": {
        "colab": {
          "base_uri": "https://localhost:8080/"
        },
        "id": "V9PCSuI9JgZ1",
        "outputId": "c577c56f-4acd-442a-fe44-03a047bf697d"
      },
      "outputs": [
        {
          "data": {
            "text/plain": [
              "['tok2vec', 'tagger', 'parser', 'attribute_ruler', 'lemmatizer', 'ner']"
            ]
          },
          "execution_count": 12,
          "metadata": {},
          "output_type": "execute_result"
        }
      ],
      "source": [
        "\n",
        "en.pipe_names"
      ]
    },
    {
      "cell_type": "code",
      "execution_count": null,
      "metadata": {
        "colab": {
          "base_uri": "https://localhost:8080/"
        },
        "id": "zcpnMHr-DyyU",
        "outputId": "34b071c8-a760-4930-c140-1bcdd5827583"
      },
      "outputs": [
        {
          "name": "stdout",
          "output_type": "stream",
          "text": [
            "I\n",
            "am\n",
            "amutha\n",
            "/\n",
            "NLP\n",
            "course\n",
            "Teacher\n",
            "..\n"
          ]
        }
      ],
      "source": [
        "\n",
        "nlp = spacy.blank(\"en\")\n",
        "\n",
        "doc = nlp(\"I am amutha/NLP course Teacher ..\")\n",
        "for token in doc:\n",
        "\tprint(token)"
      ]
    },
    {
      "cell_type": "code",
      "execution_count": null,
      "metadata": {
        "colab": {
          "base_uri": "https://localhost:8080/"
        },
        "id": "SnrAtFcUIHOk",
        "outputId": "65a9e0bc-d1d3-451f-ee93-d36914814565"
      },
      "outputs": [
        {
          "name": "stdout",
          "output_type": "stream",
          "text": [
            "I\n",
            "am\n",
            "amutha/.NLP\n",
            "course\n",
            "Teacher\n",
            "!\n"
          ]
        }
      ],
      "source": [
        "doc1 = nlp(\"I am amutha/.NLP course Teacher!\")\n",
        "for tokens in doc1:\n",
        "\tprint(tokens)"
      ]
    },
    {
      "cell_type": "code",
      "execution_count": null,
      "metadata": {
        "id": "rNpy5ks5IWnw"
      },
      "outputs": [],
      "source": [
        "import spacy\n",
        "\n",
        "nlp = spacy.load('en_core_web_sm')\n",
        "\n",
        "sentence = \"ccomputational linguistics naturllanguafe\"\n",
        "\n",
        "doc = nlp(sentence)\n",
        "\n",
        "for ent in doc.ents:\n",
        "\tprint(ent.text, ent.start_char, ent.end_char, ent.label_)"
      ]
    },
    {
      "cell_type": "code",
      "execution_count": null,
      "metadata": {
        "colab": {
          "base_uri": "https://localhost:8080/"
        },
        "id": "o8yQlzmo1BH_",
        "outputId": "b7b20bd7-a4fa-4294-f038-c98fdf187c06"
      },
      "outputs": [
        {
          "name": "stdout",
          "output_type": "stream",
          "text": [
            "Narendra PERSON\n",
            "Modi PERSON\n",
            "visited \n",
            "the \n",
            "government \n",
            "headquarters \n",
            "in \n",
            "France GPE\n",
            "today DATE\n"
          ]
        }
      ],
      "source": [
        "sent_0 = nlp(u'Narendra Modi visited the government headquarters in France today')\n",
        "for token in sent_0:\n",
        "    print(token.text, token.ent_type_)"
      ]
    },
    {
      "cell_type": "code",
      "execution_count": null,
      "metadata": {
        "colab": {
          "base_uri": "https://localhost:8080/"
        },
        "id": "XC1HrBZK2Ikw",
        "outputId": "da01bfe1-e55e-4c6f-d99f-cc840b349b8c"
      },
      "outputs": [
        {
          "name": "stdout",
          "output_type": "stream",
          "text": [
            "Narendra Modi PERSON\n",
            "France GPE\n",
            "today DATE\n"
          ]
        }
      ],
      "source": [
        "\n",
        "# spaCy intends us to access the entities in the doc.ents streamable object to get only the entities\n",
        "for ent in sent_0.ents:\n",
        "    print(ent.text, ent.label_)"
      ]
    },
    {
      "cell_type": "code",
      "execution_count": null,
      "metadata": {
        "colab": {
          "base_uri": "https://localhost:8080/"
        },
        "id": "tL61Fc8n2PDf",
        "outputId": "ff68874f-1b3d-4d83-f0ec-7cb091c24cac"
      },
      "outputs": [
        {
          "name": "stdout",
          "output_type": "stream",
          "text": [
            "Narendra Modi PERSON\n",
            "France GPE\n",
            "today DATE\n"
          ]
        }
      ],
      "source": [
        "\n",
        "# spaCy intends us to access the entities in the doc.ents streamable object to get only the entities\n",
        "for ent in sent_0.ents:\n",
        "    print(ent.text, ent.label_)"
      ]
    },
    {
      "cell_type": "code",
      "execution_count": null,
      "metadata": {
        "colab": {
          "base_uri": "https://localhost:8080/",
          "height": 35
        },
        "id": "bL_DjKoW2SQH",
        "outputId": "0ef1a284-a99a-417a-b669-b4ee3a777b22"
      },
      "outputs": [
        {
          "data": {
            "text/plain": [
              "'Nationalities or religious or political groups'"
            ]
          },
          "execution_count": 19,
          "metadata": {},
          "output_type": "execute_result"
        }
      ],
      "source": [
        "spacy.explain('NORP')"
      ]
    },
    {
      "cell_type": "code",
      "execution_count": null,
      "metadata": {
        "colab": {
          "base_uri": "https://localhost:8080/",
          "height": 35
        },
        "id": "CejflzqH2VXk",
        "outputId": "68e1af9b-bdc4-4684-a6ff-2fb84da862a2"
      },
      "outputs": [
        {
          "data": {
            "text/plain": [
              "'\"first\", \"second\", etc.'"
            ]
          },
          "execution_count": 20,
          "metadata": {},
          "output_type": "execute_result"
        }
      ],
      "source": [
        "\n",
        "spacy.explain('ORDINAL')"
      ]
    },
    {
      "cell_type": "code",
      "execution_count": null,
      "metadata": {
        "colab": {
          "base_uri": "https://localhost:8080/"
        },
        "id": "d1uj21592YS9",
        "outputId": "4201e236-4dae-48bb-b2b6-7e6622ac69cf"
      },
      "outputs": [
        {
          "name": "stdout",
          "output_type": "stream",
          "text": [
            "Narendra Modi PERSON\n",
            "France GPE\n",
            "today DATE\n"
          ]
        }
      ],
      "source": [
        "for ent in sent_0.ents:\n",
        "    print(ent.text, ent.label_)"
      ]
    }
  ],
  "metadata": {
    "colab": {
      "provenance": [],
      "include_colab_link": true
    },
    "kernelspec": {
      "display_name": "Python 3 (ipykernel)",
      "language": "python",
      "name": "python3"
    },
    "language_info": {
      "codemirror_mode": {
        "name": "ipython",
        "version": 3
      },
      "file_extension": ".py",
      "mimetype": "text/x-python",
      "name": "python",
      "nbconvert_exporter": "python",
      "pygments_lexer": "ipython3",
      "version": "3.11.3"
    }
  },
  "nbformat": 4,
  "nbformat_minor": 0
}